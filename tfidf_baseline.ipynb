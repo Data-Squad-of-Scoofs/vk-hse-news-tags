{
 "cells": [
  {
   "cell_type": "code",
   "execution_count": 1,
   "metadata": {},
   "outputs": [],
   "source": [
    "import pandas as pd\n",
    "import numpy as np"
   ]
  },
  {
   "cell_type": "code",
   "execution_count": 2,
   "metadata": {},
   "outputs": [
    {
     "name": "stdout",
     "output_type": "stream",
     "text": [
      "ls: cannot access 'shared/': No such file or directory\r\n"
     ]
    }
   ],
   "source": [
    "!ls shared/ | grep csv"
   ]
  },
  {
   "cell_type": "code",
   "execution_count": 3,
   "metadata": {},
   "outputs": [
    {
     "ename": "FileNotFoundError",
     "evalue": "[Errno 2] No such file or directory: 'shared/355k_13topics'",
     "output_type": "error",
     "traceback": [
      "\u001b[0;31m---------------------------------------------------------------------------\u001b[0m",
      "\u001b[0;31mFileNotFoundError\u001b[0m                         Traceback (most recent call last)",
      "Cell \u001b[0;32mIn[3], line 1\u001b[0m\n\u001b[0;32m----> 1\u001b[0m natasha \u001b[38;5;241m=\u001b[39m \u001b[43mpd\u001b[49m\u001b[38;5;241;43m.\u001b[39;49m\u001b[43mread_pickle\u001b[49m\u001b[43m(\u001b[49m\u001b[38;5;124;43m'\u001b[39;49m\u001b[38;5;124;43mshared/355k_13topics\u001b[39;49m\u001b[38;5;124;43m'\u001b[39;49m\u001b[43m,\u001b[49m\u001b[43m \u001b[49m\u001b[43mcompression\u001b[49m\u001b[38;5;241;43m=\u001b[39;49m\u001b[38;5;124;43m'\u001b[39;49m\u001b[38;5;124;43mgzip\u001b[39;49m\u001b[38;5;124;43m'\u001b[39;49m\u001b[43m)\u001b[49m\n\u001b[1;32m      2\u001b[0m auto \u001b[38;5;241m=\u001b[39m pd\u001b[38;5;241m.\u001b[39mread_csv(\u001b[38;5;124m'\u001b[39m\u001b[38;5;124mshared/auto.csv\u001b[39m\u001b[38;5;124m'\u001b[39m)\n\u001b[1;32m      3\u001b[0m gadgets \u001b[38;5;241m=\u001b[39m pd\u001b[38;5;241m.\u001b[39mread_csv(\u001b[38;5;124m'\u001b[39m\u001b[38;5;124mshared/gadgets.csv\u001b[39m\u001b[38;5;124m'\u001b[39m)\n",
      "File \u001b[0;32m/opt/tljh/user/lib/python3.9/site-packages/pandas/io/pickle.py:190\u001b[0m, in \u001b[0;36mread_pickle\u001b[0;34m(filepath_or_buffer, compression, storage_options)\u001b[0m\n\u001b[1;32m    124\u001b[0m \u001b[38;5;250m\u001b[39m\u001b[38;5;124;03m\"\"\"\u001b[39;00m\n\u001b[1;32m    125\u001b[0m \u001b[38;5;124;03mLoad pickled pandas object (or any object) from file.\u001b[39;00m\n\u001b[1;32m    126\u001b[0m \n\u001b[0;32m   (...)\u001b[0m\n\u001b[1;32m    187\u001b[0m \u001b[38;5;124;03m4    4    9\u001b[39;00m\n\u001b[1;32m    188\u001b[0m \u001b[38;5;124;03m\"\"\"\u001b[39;00m\n\u001b[1;32m    189\u001b[0m excs_to_catch \u001b[38;5;241m=\u001b[39m (\u001b[38;5;167;01mAttributeError\u001b[39;00m, \u001b[38;5;167;01mImportError\u001b[39;00m, \u001b[38;5;167;01mModuleNotFoundError\u001b[39;00m, \u001b[38;5;167;01mTypeError\u001b[39;00m)\n\u001b[0;32m--> 190\u001b[0m \u001b[38;5;28;01mwith\u001b[39;00m \u001b[43mget_handle\u001b[49m\u001b[43m(\u001b[49m\n\u001b[1;32m    191\u001b[0m \u001b[43m    \u001b[49m\u001b[43mfilepath_or_buffer\u001b[49m\u001b[43m,\u001b[49m\n\u001b[1;32m    192\u001b[0m \u001b[43m    \u001b[49m\u001b[38;5;124;43m\"\u001b[39;49m\u001b[38;5;124;43mrb\u001b[39;49m\u001b[38;5;124;43m\"\u001b[39;49m\u001b[43m,\u001b[49m\n\u001b[1;32m    193\u001b[0m \u001b[43m    \u001b[49m\u001b[43mcompression\u001b[49m\u001b[38;5;241;43m=\u001b[39;49m\u001b[43mcompression\u001b[49m\u001b[43m,\u001b[49m\n\u001b[1;32m    194\u001b[0m \u001b[43m    \u001b[49m\u001b[43mis_text\u001b[49m\u001b[38;5;241;43m=\u001b[39;49m\u001b[38;5;28;43;01mFalse\u001b[39;49;00m\u001b[43m,\u001b[49m\n\u001b[1;32m    195\u001b[0m \u001b[43m    \u001b[49m\u001b[43mstorage_options\u001b[49m\u001b[38;5;241;43m=\u001b[39;49m\u001b[43mstorage_options\u001b[49m\u001b[43m,\u001b[49m\n\u001b[1;32m    196\u001b[0m \u001b[43m\u001b[49m\u001b[43m)\u001b[49m \u001b[38;5;28;01mas\u001b[39;00m handles:\n\u001b[1;32m    197\u001b[0m \n\u001b[1;32m    198\u001b[0m     \u001b[38;5;66;03m# 1) try standard library Pickle\u001b[39;00m\n\u001b[1;32m    199\u001b[0m     \u001b[38;5;66;03m# 2) try pickle_compat (older pandas version) to handle subclass changes\u001b[39;00m\n\u001b[1;32m    200\u001b[0m     \u001b[38;5;66;03m# 3) try pickle_compat with latin-1 encoding upon a UnicodeDecodeError\u001b[39;00m\n\u001b[1;32m    202\u001b[0m     \u001b[38;5;28;01mtry\u001b[39;00m:\n\u001b[1;32m    203\u001b[0m         \u001b[38;5;66;03m# TypeError for Cython complaints about object.__new__ vs Tick.__new__\u001b[39;00m\n\u001b[1;32m    204\u001b[0m         \u001b[38;5;28;01mtry\u001b[39;00m:\n",
      "File \u001b[0;32m/opt/tljh/user/lib/python3.9/site-packages/pandas/io/common.py:751\u001b[0m, in \u001b[0;36mget_handle\u001b[0;34m(path_or_buf, mode, encoding, compression, memory_map, is_text, errors, storage_options)\u001b[0m\n\u001b[1;32m    747\u001b[0m \u001b[38;5;28;01mif\u001b[39;00m compression \u001b[38;5;241m==\u001b[39m \u001b[38;5;124m\"\u001b[39m\u001b[38;5;124mgzip\u001b[39m\u001b[38;5;124m\"\u001b[39m:\n\u001b[1;32m    748\u001b[0m     \u001b[38;5;28;01mif\u001b[39;00m \u001b[38;5;28misinstance\u001b[39m(handle, \u001b[38;5;28mstr\u001b[39m):\n\u001b[1;32m    749\u001b[0m         \u001b[38;5;66;03m# error: Incompatible types in assignment (expression has type\u001b[39;00m\n\u001b[1;32m    750\u001b[0m         \u001b[38;5;66;03m# \"GzipFile\", variable has type \"Union[str, BaseBuffer]\")\u001b[39;00m\n\u001b[0;32m--> 751\u001b[0m         handle \u001b[38;5;241m=\u001b[39m \u001b[43mgzip\u001b[49m\u001b[38;5;241;43m.\u001b[39;49m\u001b[43mGzipFile\u001b[49m\u001b[43m(\u001b[49m\u001b[43m  \u001b[49m\u001b[38;5;66;43;03m# type: ignore[assignment]\u001b[39;49;00m\n\u001b[1;32m    752\u001b[0m \u001b[43m            \u001b[49m\u001b[43mfilename\u001b[49m\u001b[38;5;241;43m=\u001b[39;49m\u001b[43mhandle\u001b[49m\u001b[43m,\u001b[49m\n\u001b[1;32m    753\u001b[0m \u001b[43m            \u001b[49m\u001b[43mmode\u001b[49m\u001b[38;5;241;43m=\u001b[39;49m\u001b[43mioargs\u001b[49m\u001b[38;5;241;43m.\u001b[39;49m\u001b[43mmode\u001b[49m\u001b[43m,\u001b[49m\n\u001b[1;32m    754\u001b[0m \u001b[43m            \u001b[49m\u001b[38;5;241;43m*\u001b[39;49m\u001b[38;5;241;43m*\u001b[39;49m\u001b[43mcompression_args\u001b[49m\u001b[43m,\u001b[49m\n\u001b[1;32m    755\u001b[0m \u001b[43m        \u001b[49m\u001b[43m)\u001b[49m\n\u001b[1;32m    756\u001b[0m     \u001b[38;5;28;01melse\u001b[39;00m:\n\u001b[1;32m    757\u001b[0m         handle \u001b[38;5;241m=\u001b[39m gzip\u001b[38;5;241m.\u001b[39mGzipFile(\n\u001b[1;32m    758\u001b[0m             \u001b[38;5;66;03m# No overload variant of \"GzipFile\" matches argument types\u001b[39;00m\n\u001b[1;32m    759\u001b[0m             \u001b[38;5;66;03m# \"Union[str, BaseBuffer]\", \"str\", \"Dict[str, Any]\"\u001b[39;00m\n\u001b[0;32m   (...)\u001b[0m\n\u001b[1;32m    762\u001b[0m             \u001b[38;5;241m*\u001b[39m\u001b[38;5;241m*\u001b[39mcompression_args,\n\u001b[1;32m    763\u001b[0m         )\n",
      "File \u001b[0;32m/opt/tljh/user/lib/python3.9/gzip.py:173\u001b[0m, in \u001b[0;36mGzipFile.__init__\u001b[0;34m(self, filename, mode, compresslevel, fileobj, mtime)\u001b[0m\n\u001b[1;32m    171\u001b[0m     mode \u001b[38;5;241m+\u001b[39m\u001b[38;5;241m=\u001b[39m \u001b[38;5;124m'\u001b[39m\u001b[38;5;124mb\u001b[39m\u001b[38;5;124m'\u001b[39m\n\u001b[1;32m    172\u001b[0m \u001b[38;5;28;01mif\u001b[39;00m fileobj \u001b[38;5;129;01mis\u001b[39;00m \u001b[38;5;28;01mNone\u001b[39;00m:\n\u001b[0;32m--> 173\u001b[0m     fileobj \u001b[38;5;241m=\u001b[39m \u001b[38;5;28mself\u001b[39m\u001b[38;5;241m.\u001b[39mmyfileobj \u001b[38;5;241m=\u001b[39m \u001b[43mbuiltins\u001b[49m\u001b[38;5;241;43m.\u001b[39;49m\u001b[43mopen\u001b[49m\u001b[43m(\u001b[49m\u001b[43mfilename\u001b[49m\u001b[43m,\u001b[49m\u001b[43m \u001b[49m\u001b[43mmode\u001b[49m\u001b[43m \u001b[49m\u001b[38;5;129;43;01mor\u001b[39;49;00m\u001b[43m \u001b[49m\u001b[38;5;124;43m'\u001b[39;49m\u001b[38;5;124;43mrb\u001b[39;49m\u001b[38;5;124;43m'\u001b[39;49m\u001b[43m)\u001b[49m\n\u001b[1;32m    174\u001b[0m \u001b[38;5;28;01mif\u001b[39;00m filename \u001b[38;5;129;01mis\u001b[39;00m \u001b[38;5;28;01mNone\u001b[39;00m:\n\u001b[1;32m    175\u001b[0m     filename \u001b[38;5;241m=\u001b[39m \u001b[38;5;28mgetattr\u001b[39m(fileobj, \u001b[38;5;124m'\u001b[39m\u001b[38;5;124mname\u001b[39m\u001b[38;5;124m'\u001b[39m, \u001b[38;5;124m'\u001b[39m\u001b[38;5;124m'\u001b[39m)\n",
      "\u001b[0;31mFileNotFoundError\u001b[0m: [Errno 2] No such file or directory: 'shared/355k_13topics'"
     ]
    }
   ],
   "source": [
    "natasha = pd.read_pickle('shared/355k_13topics', compression='gzip')\n",
    "auto = pd.read_csv('shared/auto.csv')\n",
    "gadgets = pd.read_csv('shared/gadgets.csv')\n",
    "krasota = pd.read_csv('shared/krasota.csv')\n",
    "moda = pd.read_csv('shared/moda.csv')\n",
    "opros = pd.read_csv('shared/opros.csv')\n",
    "pets = pd.read_csv('shared/pets.csv')\n",
    "pravo_RG_ru = pd.read_csv('shared/pravo_RG_ru.csv')\n",
    "recipe = pd.read_csv('shared/recipe.csv')\n",
    "tv = pd.read_csv('shared/tv.csv')\n",
    "zagadki = pd.read_csv('shared/zagadki.csv')\n",
    "socnets = pd.read_csv('shared/socnets.csv')\n",
    "persona = pd.concat([pd.read_csv('shared/persona_1.csv'), pd.read_csv('shared/persona_2.csv')])"
   ]
  },
  {
   "cell_type": "code",
   "execution_count": null,
   "metadata": {},
   "outputs": [],
   "source": [
    "natasha['topic'].value_counts()"
   ]
  },
  {
   "cell_type": "code",
   "execution_count": 5,
   "metadata": {},
   "outputs": [],
   "source": [
    "cats = [\n",
    "auto,\n",
    "gadgets,\n",
    "krasota,\n",
    "moda,\n",
    "opros,\n",
    "pets,\n",
    "pravo_RG_ru,\n",
    "recipe,\n",
    "tv,\n",
    "zagadki,\n",
    "persona,\n",
    "socnets]\n",
    "cat_names = [\n",
    "    'транспорт',\n",
    "    'гаджеты',\n",
    "    'красота',\n",
    "    'мода',\n",
    "    'опросы',\n",
    "    'питомцы',\n",
    "    'закон и право',\n",
    "    'рецепты',\n",
    "    'телевидение',\n",
    "    'головоломки',\n",
    "    'персоны',\n",
    "    'социальные сети'\n",
    "]\n"
   ]
  },
  {
   "cell_type": "code",
   "execution_count": 6,
   "metadata": {},
   "outputs": [],
   "source": [
    "for ind, cat in enumerate(cats):\n",
    "    cat['topic'] = cat_names[ind]\n",
    "all_cats = pd.concat(cats)"
   ]
  },
  {
   "cell_type": "code",
   "execution_count": 7,
   "metadata": {},
   "outputs": [
    {
     "data": {
      "text/html": [
       "<div>\n",
       "<style scoped>\n",
       "    .dataframe tbody tr th:only-of-type {\n",
       "        vertical-align: middle;\n",
       "    }\n",
       "\n",
       "    .dataframe tbody tr th {\n",
       "        vertical-align: top;\n",
       "    }\n",
       "\n",
       "    .dataframe thead th {\n",
       "        text-align: right;\n",
       "    }\n",
       "</style>\n",
       "<table border=\"1\" class=\"dataframe\">\n",
       "  <thead>\n",
       "    <tr style=\"text-align: right;\">\n",
       "      <th></th>\n",
       "      <th>text</th>\n",
       "      <th>topic</th>\n",
       "    </tr>\n",
       "  </thead>\n",
       "  <tbody>\n",
       "    <tr>\n",
       "      <th>0</th>\n",
       "      <td>Из всех дисциплин мотоциклетного спорта триал...</td>\n",
       "      <td>транспорт</td>\n",
       "    </tr>\n",
       "    <tr>\n",
       "      <th>1</th>\n",
       "      <td>Tesla отзывает все электрические пикапы Cyber...</td>\n",
       "      <td>транспорт</td>\n",
       "    </tr>\n",
       "    <tr>\n",
       "      <th>2</th>\n",
       "      <td>Источник: Lamborghini С незапамятных времен а...</td>\n",
       "      <td>транспорт</td>\n",
       "    </tr>\n",
       "    <tr>\n",
       "      <th>3</th>\n",
       "      <td>Мир масштабных моделей — это, уж простите за ...</td>\n",
       "      <td>транспорт</td>\n",
       "    </tr>\n",
       "    <tr>\n",
       "      <th>4</th>\n",
       "      <td>30 лет назад мир замер при известии о кончине ...</td>\n",
       "      <td>транспорт</td>\n",
       "    </tr>\n",
       "    <tr>\n",
       "      <th>...</th>\n",
       "      <td>...</td>\n",
       "      <td>...</td>\n",
       "    </tr>\n",
       "    <tr>\n",
       "      <th>3786</th>\n",
       "      <td>Команда ВКонтакте объявила о запуске сервиса V...</td>\n",
       "      <td>социальные сети</td>\n",
       "    </tr>\n",
       "    <tr>\n",
       "      <th>3787</th>\n",
       "      <td>В соцсетях завирусилось видео с необычным манг...</td>\n",
       "      <td>социальные сети</td>\n",
       "    </tr>\n",
       "    <tr>\n",
       "      <th>3788</th>\n",
       "      <td>YouTube запускает новые функции, которые позво...</td>\n",
       "      <td>социальные сети</td>\n",
       "    </tr>\n",
       "    <tr>\n",
       "      <th>3789</th>\n",
       "      <td>Российский стартап представил социальную сеть ...</td>\n",
       "      <td>социальные сети</td>\n",
       "    </tr>\n",
       "    <tr>\n",
       "      <th>3790</th>\n",
       "      <td>В App Store и Google Play вышло бесплатное при...</td>\n",
       "      <td>социальные сети</td>\n",
       "    </tr>\n",
       "  </tbody>\n",
       "</table>\n",
       "<p>24780 rows × 2 columns</p>\n",
       "</div>"
      ],
      "text/plain": [
       "                                                   text            topic\n",
       "0      Из всех дисциплин мотоциклетного спорта триал...        транспорт\n",
       "1      Tesla отзывает все электрические пикапы Cyber...        транспорт\n",
       "2      Источник: Lamborghini С незапамятных времен а...        транспорт\n",
       "3      Мир масштабных моделей — это, уж простите за ...        транспорт\n",
       "4     30 лет назад мир замер при известии о кончине ...        транспорт\n",
       "...                                                 ...              ...\n",
       "3786  Команда ВКонтакте объявила о запуске сервиса V...  социальные сети\n",
       "3787  В соцсетях завирусилось видео с необычным манг...  социальные сети\n",
       "3788  YouTube запускает новые функции, которые позво...  социальные сети\n",
       "3789  Российский стартап представил социальную сеть ...  социальные сети\n",
       "3790  В App Store и Google Play вышло бесплатное при...  социальные сети\n",
       "\n",
       "[24780 rows x 2 columns]"
      ]
     },
     "execution_count": 7,
     "metadata": {},
     "output_type": "execute_result"
    }
   ],
   "source": [
    "all_cats_v2 = all_cats.rename(columns={'Article Text': 'text'}).drop(columns=['Title', 'URL'])\n",
    "all_cats_v2"
   ]
  },
  {
   "cell_type": "code",
   "execution_count": 8,
   "metadata": {},
   "outputs": [
    {
     "data": {
      "text/html": [
       "<div>\n",
       "<style scoped>\n",
       "    .dataframe tbody tr th:only-of-type {\n",
       "        vertical-align: middle;\n",
       "    }\n",
       "\n",
       "    .dataframe tbody tr th {\n",
       "        vertical-align: top;\n",
       "    }\n",
       "\n",
       "    .dataframe thead th {\n",
       "        text-align: right;\n",
       "    }\n",
       "</style>\n",
       "<table border=\"1\" class=\"dataframe\">\n",
       "  <thead>\n",
       "    <tr style=\"text-align: right;\">\n",
       "      <th></th>\n",
       "      <th>text</th>\n",
       "      <th>topic</th>\n",
       "    </tr>\n",
       "  </thead>\n",
       "  <tbody>\n",
       "    <tr>\n",
       "      <th>0</th>\n",
       "      <td>Из всех дисциплин мотоциклетного спорта триал...</td>\n",
       "      <td>транспорт</td>\n",
       "    </tr>\n",
       "    <tr>\n",
       "      <th>1</th>\n",
       "      <td>Tesla отзывает все электрические пикапы Cyber...</td>\n",
       "      <td>транспорт</td>\n",
       "    </tr>\n",
       "    <tr>\n",
       "      <th>2</th>\n",
       "      <td>Источник: Lamborghini С незапамятных времен а...</td>\n",
       "      <td>транспорт</td>\n",
       "    </tr>\n",
       "    <tr>\n",
       "      <th>3</th>\n",
       "      <td>Мир масштабных моделей — это, уж простите за ...</td>\n",
       "      <td>транспорт</td>\n",
       "    </tr>\n",
       "    <tr>\n",
       "      <th>4</th>\n",
       "      <td>30 лет назад мир замер при известии о кончине ...</td>\n",
       "      <td>транспорт</td>\n",
       "    </tr>\n",
       "    <tr>\n",
       "      <th>...</th>\n",
       "      <td>...</td>\n",
       "      <td>...</td>\n",
       "    </tr>\n",
       "    <tr>\n",
       "      <th>722585</th>\n",
       "      <td>google inc впервые разрешит разработчикам разм...</td>\n",
       "      <td>технологии</td>\n",
       "    </tr>\n",
       "    <tr>\n",
       "      <th>722601</th>\n",
       "      <td>apple проведет 9 марта особое мероприятие на к...</td>\n",
       "      <td>технологии</td>\n",
       "    </tr>\n",
       "    <tr>\n",
       "      <th>722615</th>\n",
       "      <td>3\\nпутин учредил день сил специальных операций...</td>\n",
       "      <td>технологии</td>\n",
       "    </tr>\n",
       "    <tr>\n",
       "      <th>722616</th>\n",
       "      <td>филипп бахтин назначен креативным директором а...</td>\n",
       "      <td>технологии</td>\n",
       "    </tr>\n",
       "    <tr>\n",
       "      <th>722617</th>\n",
       "      <td>компания гипросвязь занимающаяся проектировани...</td>\n",
       "      <td>технологии</td>\n",
       "    </tr>\n",
       "  </tbody>\n",
       "</table>\n",
       "<p>375039 rows × 2 columns</p>\n",
       "</div>"
      ],
      "text/plain": [
       "                                                     text       topic\n",
       "0        Из всех дисциплин мотоциклетного спорта триал...   транспорт\n",
       "1        Tesla отзывает все электрические пикапы Cyber...   транспорт\n",
       "2        Источник: Lamborghini С незапамятных времен а...   транспорт\n",
       "3        Мир масштабных моделей — это, уж простите за ...   транспорт\n",
       "4       30 лет назад мир замер при известии о кончине ...   транспорт\n",
       "...                                                   ...         ...\n",
       "722585  google inc впервые разрешит разработчикам разм...  технологии\n",
       "722601  apple проведет 9 марта особое мероприятие на к...  технологии\n",
       "722615  3\\nпутин учредил день сил специальных операций...  технологии\n",
       "722616  филипп бахтин назначен креативным директором а...  технологии\n",
       "722617  компания гипросвязь занимающаяся проектировани...  технологии\n",
       "\n",
       "[375039 rows x 2 columns]"
      ]
     },
     "execution_count": 8,
     "metadata": {},
     "output_type": "execute_result"
    }
   ],
   "source": [
    "CONCATED = pd.concat([all_cats_v2, natasha]).drop_duplicates(subset='text')\n",
    "CONCATED"
   ]
  },
  {
   "cell_type": "code",
   "execution_count": 9,
   "metadata": {},
   "outputs": [
    {
     "data": {
      "text/plain": [
       "{'политика': 148727,\n",
       " 'экономика': 67736,\n",
       " 'спорт': 31229,\n",
       " 'события': 27773,\n",
       " 'наука': 26651,\n",
       " 'туризм': 19080,\n",
       " 'общество': 8002,\n",
       " 'забота о себе': 7426,\n",
       " 'технологии': 6453,\n",
       " 'кино': 4140,\n",
       " 'здоровье': 3604,\n",
       " 'гаджеты': 2406,\n",
       " 'рецепты': 2300,\n",
       " 'красота': 2296,\n",
       " 'мода': 2286,\n",
       " 'транспорт': 2193,\n",
       " 'питомцы': 2181,\n",
       " 'компании': 2152,\n",
       " 'телевидение': 2095,\n",
       " 'социальные сети': 2008,\n",
       " 'закон и право': 1881,\n",
       " 'погода': 1253,\n",
       " 'опросы': 839,\n",
       " 'персоны': 242,\n",
       " 'головоломки': 86}"
      ]
     },
     "execution_count": 9,
     "metadata": {},
     "output_type": "execute_result"
    }
   ],
   "source": [
    "concated_dict = CONCATED['topic'].value_counts().to_dict()\n",
    "concated_dict"
   ]
  },
  {
   "cell_type": "code",
   "execution_count": 10,
   "metadata": {},
   "outputs": [],
   "source": [
    "default = CONCATED.sample(2)\n",
    "for k, v in concated_dict.items():\n",
    "    if CONCATED[CONCATED['topic']==k].shape[0] >= 2300:\n",
    "        curr = CONCATED[CONCATED['topic']==k].sample(2300)\n",
    "    else:\n",
    "        curr = CONCATED[CONCATED['topic']==k].sample(frac=1)\n",
    "    default = pd.concat([default, curr])"
   ]
  },
  {
   "cell_type": "code",
   "execution_count": 11,
   "metadata": {},
   "outputs": [
    {
     "data": {
      "text/plain": [
       "политика           2301\n",
       "наука              2300\n",
       "экономика          2300\n",
       "спорт              2300\n",
       "события            2300\n",
       "общество           2300\n",
       "туризм             2300\n",
       "забота о себе      2300\n",
       "технологии         2300\n",
       "рецепты            2300\n",
       "кино               2300\n",
       "здоровье           2300\n",
       "гаджеты            2300\n",
       "красота            2296\n",
       "мода               2286\n",
       "транспорт          2193\n",
       "питомцы            2181\n",
       "компании           2152\n",
       "телевидение        2095\n",
       "социальные сети    2008\n",
       "закон и право      1882\n",
       "погода             1253\n",
       "опросы              839\n",
       "персоны             242\n",
       "головоломки          86\n",
       "Name: topic, dtype: int64"
      ]
     },
     "execution_count": 11,
     "metadata": {},
     "output_type": "execute_result"
    }
   ],
   "source": [
    "default['topic'].value_counts()"
   ]
  },
  {
   "cell_type": "code",
   "execution_count": 12,
   "metadata": {},
   "outputs": [],
   "source": [
    "from string import punctuation\n",
    "\n",
    "punctuation += \"—\"\n",
    "default = default.dropna()\n",
    "\n",
    "default['text'] = default['text'].apply(lambda x: \"\".join([i if i not in punctuation else \" \" for i in x])).apply(lambda x: x.lower().replace(\"\\n\", \" \").\\\n",
    "    replace(\"  \", \" \").strip())"
   ]
  },
  {
   "cell_type": "code",
   "execution_count": 13,
   "metadata": {},
   "outputs": [
    {
     "name": "stdout",
     "output_type": "stream",
     "text": [
      "министерство строительства и жкх разработало проект госпрограммы развитие туризма в которой подсчитаны расходы путешественников в россии об этом сообщает российская газета по данным всемирной туристской организации расходы въездного туриста в россии составляют менее 900 долларов на человека что ниже чем в среднем по всему миру во франции австрии испании эта сумма превышает 11 тысячи долларов кроме того около 70 процентов иностранных туристов посещающих россию приезжают в москву и санктпетербург россияне ежегодно совершают 3040 миллионов турпоездок за границу тратя там до 3540 миллиардов долларов порядка 60 процентов турпакетов реализуемых российскими турфирмами предусматривают поездки в иностранные государства это свидетельствует о платежеспособном спросе который можно переориентировать на внутренний рынок создав конкурентное предложение сказано в документе авторы проекта также считают перспективным направление делового туризма уточняется что деловые туристы за сутки пребывания в россии тратят около 23 тысяч рублей сумма включает расходы на проживание перелет и личные нужды таким образом в документе предлагается разработать концепцию развития делового туризма до 2035 года\n"
     ]
    }
   ],
   "source": [
    "print(default.sample(1).iloc[0, 0])"
   ]
  },
  {
   "cell_type": "code",
   "execution_count": 14,
   "metadata": {},
   "outputs": [
    {
     "data": {
      "text/html": [
       "<div>\n",
       "<style scoped>\n",
       "    .dataframe tbody tr th:only-of-type {\n",
       "        vertical-align: middle;\n",
       "    }\n",
       "\n",
       "    .dataframe tbody tr th {\n",
       "        vertical-align: top;\n",
       "    }\n",
       "\n",
       "    .dataframe thead th {\n",
       "        text-align: right;\n",
       "    }\n",
       "</style>\n",
       "<table border=\"1\" class=\"dataframe\">\n",
       "  <thead>\n",
       "    <tr style=\"text-align: right;\">\n",
       "      <th></th>\n",
       "      <th>text</th>\n",
       "      <th>topic</th>\n",
       "    </tr>\n",
       "  </thead>\n",
       "  <tbody>\n",
       "    <tr>\n",
       "      <th>808</th>\n",
       "      <td>в рунете завирусилась новая работа искусственн...</td>\n",
       "      <td>социальные сети</td>\n",
       "    </tr>\n",
       "    <tr>\n",
       "      <th>522801</th>\n",
       "      <td>умеренные физические нагрузки улучшают работу ...</td>\n",
       "      <td>здоровье</td>\n",
       "    </tr>\n",
       "    <tr>\n",
       "      <th>3589</th>\n",
       "      <td>whatsapp временно прекратит обмен данными с ма...</td>\n",
       "      <td>социальные сети</td>\n",
       "    </tr>\n",
       "    <tr>\n",
       "      <th>253826</th>\n",
       "      <td>компания qualcomm сократит 15 сотрудников 2407...</td>\n",
       "      <td>технологии</td>\n",
       "    </tr>\n",
       "    <tr>\n",
       "      <th>39</th>\n",
       "      <td>ксения калинкина аналитики сервисов «работа ру...</td>\n",
       "      <td>опросы</td>\n",
       "    </tr>\n",
       "    <tr>\n",
       "      <th>...</th>\n",
       "      <td>...</td>\n",
       "      <td>...</td>\n",
       "    </tr>\n",
       "    <tr>\n",
       "      <th>294273</th>\n",
       "      <td>россиянка побывала на пасеке медовый двор кото...</td>\n",
       "      <td>туризм</td>\n",
       "    </tr>\n",
       "    <tr>\n",
       "      <th>6</th>\n",
       "      <td>иски правообладателей к предпринимателям незак...</td>\n",
       "      <td>закон и право</td>\n",
       "    </tr>\n",
       "    <tr>\n",
       "      <th>3603</th>\n",
       "      <td>постарайтесь вспомнить как мама постоянно сле...</td>\n",
       "      <td>социальные сети</td>\n",
       "    </tr>\n",
       "    <tr>\n",
       "      <th>15691</th>\n",
       "      <td>бывший полузащитник сборной бразилии по футбол...</td>\n",
       "      <td>спорт</td>\n",
       "    </tr>\n",
       "    <tr>\n",
       "      <th>641</th>\n",
       "      <td>валерий леонтьев  источник personastars певец ...</td>\n",
       "      <td>телевидение</td>\n",
       "    </tr>\n",
       "  </tbody>\n",
       "</table>\n",
       "<p>49413 rows × 2 columns</p>\n",
       "</div>"
      ],
      "text/plain": [
       "                                                     text            topic\n",
       "808     в рунете завирусилась новая работа искусственн...  социальные сети\n",
       "522801  умеренные физические нагрузки улучшают работу ...         здоровье\n",
       "3589    whatsapp временно прекратит обмен данными с ма...  социальные сети\n",
       "253826  компания qualcomm сократит 15 сотрудников 2407...       технологии\n",
       "39      ксения калинкина аналитики сервисов «работа ру...           опросы\n",
       "...                                                   ...              ...\n",
       "294273  россиянка побывала на пасеке медовый двор кото...           туризм\n",
       "6       иски правообладателей к предпринимателям незак...    закон и право\n",
       "3603    постарайтесь вспомнить как мама постоянно сле...  социальные сети\n",
       "15691   бывший полузащитник сборной бразилии по футбол...            спорт\n",
       "641     валерий леонтьев  источник personastars певец ...      телевидение\n",
       "\n",
       "[49413 rows x 2 columns]"
      ]
     },
     "execution_count": 14,
     "metadata": {},
     "output_type": "execute_result"
    }
   ],
   "source": [
    "default = default.sample(frac=1)\n",
    "default"
   ]
  },
  {
   "cell_type": "markdown",
   "metadata": {},
   "source": [
    "!pipdskjffdsf"
   ]
  },
  {
   "cell_type": "code",
   "execution_count": null,
   "metadata": {},
   "outputs": [],
   "source": [
    "jdsjc"
   ]
  },
  {
   "cell_type": "code",
   "execution_count": null,
   "metadata": {},
   "outputs": [],
   "source": []
  },
  {
   "cell_type": "code",
   "execution_count": null,
   "metadata": {},
   "outputs": [],
   "source": []
  },
  {
   "cell_type": "code",
   "execution_count": 80,
   "metadata": {},
   "outputs": [],
   "source": [
    "default.to_pickle('50k_25cats_FINAL.pkl')\n",
    "pd.DataFrame(default['text']).to_pickle('MLM_50k_25cats_FINAL.pkl')"
   ]
  },
  {
   "cell_type": "code",
   "execution_count": 69,
   "metadata": {},
   "outputs": [
    {
     "data": {
      "text/plain": [
       "95954     лондонский вест хэм заинтересован в приобретен...\n",
       "293384    высокий пульс может говорить о воспалении серд...\n",
       "529       главный ногтевой трендсеттер запрещенной соцсе...\n",
       "640835    коллегия счетной палаты российской федерации р...\n",
       "584       источник рецепты леди mail ru ингредиенты кури...\n",
       "                                ...                        \n",
       "409101    обильные снежные осадки заблокировали десятки ...\n",
       "971       модельный ряд b m w 5 й серии расширяется  ком...\n",
       "1349      источник рецепты леди mail ru ингредиенты арти...\n",
       "393       источник рецепты леди mail ru ингредиенты круп...\n",
       "355519    в министерстве юстиции швейцарии нашли юридиче...\n",
       "Name: text, Length: 47617, dtype: object"
      ]
     },
     "execution_count": 69,
     "metadata": {},
     "output_type": "execute_result"
    }
   ],
   "source": [
    "default['text'].drop_duplicates()"
   ]
  },
  {
   "cell_type": "code",
   "execution_count": null,
   "metadata": {},
   "outputs": [],
   "source": [
    "default"
   ]
  },
  {
   "cell_type": "code",
   "execution_count": null,
   "metadata": {},
   "outputs": [],
   "source": []
  }
 ],
 "metadata": {
  "kernelspec": {
   "display_name": "Python 3 (ipykernel)",
   "language": "python",
   "name": "python3"
  },
  "language_info": {
   "codemirror_mode": {
    "name": "ipython",
    "version": 3
   },
   "file_extension": ".py",
   "mimetype": "text/x-python",
   "name": "python",
   "nbconvert_exporter": "python",
   "pygments_lexer": "ipython3",
   "version": "3.9.7"
  }
 },
 "nbformat": 4,
 "nbformat_minor": 2
}
